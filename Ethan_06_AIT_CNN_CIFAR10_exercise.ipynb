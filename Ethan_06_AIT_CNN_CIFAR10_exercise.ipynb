{
  "nbformat": 4,
  "nbformat_minor": 0,
  "metadata": {
    "anaconda-cloud": {},
    "kernelspec": {
      "display_name": "Python 3",
      "language": "python",
      "name": "python3"
    },
    "language_info": {
      "codemirror_mode": {
        "name": "ipython",
        "version": 3
      },
      "file_extension": ".py",
      "mimetype": "text/x-python",
      "name": "python",
      "nbconvert_exporter": "python",
      "pygments_lexer": "ipython3",
      "version": "3.6.6"
    },
    "colab": {
      "provenance": [],
      "include_colab_link": true
    },
    "accelerator": "GPU"
  },
  "cells": [
    {
      "cell_type": "markdown",
      "metadata": {
        "id": "view-in-github",
        "colab_type": "text"
      },
      "source": [
        "<a href=\"https://colab.research.google.com/github/EthanMcFarlin/ait-deep-learning-assessment-4/blob/main/Ethan_06_AIT_CNN_CIFAR10_exercise.ipynb\" target=\"_parent\"><img src=\"https://colab.research.google.com/assets/colab-badge.svg\" alt=\"Open In Colab\"/></a>"
      ]
    },
    {
      "cell_type": "markdown",
      "metadata": {
        "id": "cW-EyI5Lxpqi"
      },
      "source": [
        "# Copyright\n",
        "\n",
        "<PRE>\n",
        "Copyright (c) 2023 Bálint Gyires-Tóth - All Rights Reserved\n",
        "You may use and modify this code for research and development purpuses.\n",
        "Using this code for educational purposes (self-paced or instructor led) without the permission of the author is prohibited.\n",
        "</PRE>"
      ]
    },
    {
      "cell_type": "markdown",
      "source": [
        "# Convolutional Neural Network exercise\n",
        "\n",
        "In this notebook, you will build a convolutional neural network, which offers superior results over the previous MLP solution. Additionally, you will perform a more detailed evaluation.  "
      ],
      "metadata": {
        "id": "3EX4cCa4WKJu"
      }
    },
    {
      "cell_type": "code",
      "source": [
        "# imports \n",
        "import tensorflow as tf\n",
        "from tensorflow.keras.datasets import cifar10\n",
        "from tensorflow.keras.utils import to_categorical\n",
        "import numpy as np\n",
        "import matplotlib.pyplot as plt\n",
        "from tensorflow.keras.models import Sequential\n",
        "from tensorflow.keras.layers import Dense, Conv2D, MaxPool2D, Flatten, Dropout, BatchNormalization\n",
        "from tensorflow.keras.initializers import HeNormal\n",
        "from tensorflow.keras.callbacks import EarlyStopping\n",
        "from tensorflow.keras.layers import Flatten\n",
        "from tensorflow.keras.layers import Dense\n",
        "from tensorflow.keras.layers import Convolution2D\n",
        "from tensorflow.keras.layers import MaxPool2D\n",
        "from tensorflow.keras.layers import BatchNormalization"
      ],
      "metadata": {
        "id": "GdCMhy4HA2qd"
      },
      "execution_count": null,
      "outputs": []
    },
    {
      "cell_type": "markdown",
      "source": [
        "# 1. Data\n",
        "The dataset we will use is the well-known CIFAR10 (Canadian Institute For Advanced Research). Explore the details on the Keras website first: https://keras.io/api/datasets/cifar10/\n",
        "\n",
        "There isn't much difference between the data preprocessing part and the one we did before. The only difference is that we don't have to reshape images into vectors, but we are working with a 4 dimensional data structure, where the dimensions are: batch, X, Y, and color channels. \n",
        "\n",
        "In the event that anything is not clear regarding the data preparation part, please check the previous CIFAR10 notebook."
      ],
      "metadata": {
        "id": "yY9fztIeWIKt"
      }
    },
    {
      "cell_type": "code",
      "source": [
        "(X_train, Y_train), (X_test, Y_test) = cifar10.load_data()"
      ],
      "metadata": {
        "id": "bez7q0eiWQCK"
      },
      "execution_count": null,
      "outputs": []
    },
    {
      "cell_type": "code",
      "source": [
        "# it is in int8 format, the neural network requires float32\n",
        "X_train = X_train.astype(\"float32\")\n",
        "X_test = X_test.astype(\"float32\")"
      ],
      "metadata": {
        "id": "vukOcBM0XzSj"
      },
      "execution_count": null,
      "outputs": []
    },
    {
      "cell_type": "code",
      "source": [
        "train_ratio  = 0.8\n",
        "train_length = X_train.shape[0]\n",
        "train_split  = int(train_ratio*train_length)\n",
        "X_valid, Y_valid = X_train[train_split:], Y_train[train_split:]\n",
        "X_train, Y_train = X_train[:train_split], Y_train[:train_split]"
      ],
      "metadata": {
        "id": "mRwuWxxIxLgN"
      },
      "execution_count": null,
      "outputs": []
    },
    {
      "cell_type": "code",
      "source": [
        "mean = X_train.mean(axis=0)\n",
        "std  = X_train.std(axis=0)\n",
        "\n",
        "X_train = (X_train-mean)/std\n",
        "X_valid = (X_valid-mean)/std\n",
        "X_test  = (X_test-mean)/std"
      ],
      "metadata": {
        "id": "2ESLP1EIyB2J"
      },
      "execution_count": null,
      "outputs": []
    },
    {
      "cell_type": "code",
      "source": [
        "nb_classes = len(np.unique(Y_train))\n",
        "Y_train = to_categorical(Y_train, nb_classes)\n",
        "Y_valid = to_categorical(Y_valid, nb_classes)\n",
        "Y_test  = to_categorical(Y_test, nb_classes)"
      ],
      "metadata": {
        "id": "xwZ4OJ6I8lba"
      },
      "execution_count": null,
      "outputs": []
    },
    {
      "cell_type": "code",
      "source": [
        "print(\"Shapes of the training, validation and test input data:\", X_train.shape, X_valid.shape, X_test.shape)\n",
        "print(\"Shapes of the training, validation and test output data:\", Y_train.shape, Y_valid.shape, Y_test.shape)\n",
        "print(\"Mean values of the training, validation and test input data:\", X_train.mean(), X_valid.mean(), X_test.mean())\n",
        "print(\"Standard deviation of the training, validation and test input data:\", X_train.std(), X_valid.std(), X_test.std())"
      ],
      "metadata": {
        "id": "O_jdJVcvX0vi",
        "colab": {
          "base_uri": "https://localhost:8080/"
        },
        "outputId": "3899ccf1-1cbd-4064-dc8a-f7bc45a520f7"
      },
      "execution_count": null,
      "outputs": [
        {
          "output_type": "stream",
          "name": "stdout",
          "text": [
            "Shapes of the training, validation and test input data: (40000, 32, 32, 3) (10000, 32, 32, 3) (10000, 32, 32, 3)\n",
            "Shapes of the training, validation and test output data: (40000, 10) (10000, 10) (10000, 10)\n",
            "Mean values of the training, validation and test input data: 2.2788842e-09 0.0023437198 0.013331206\n",
            "Standard deviation of the training, validation and test input data: 1.0000023 0.9965626 0.99783075\n"
          ]
        }
      ]
    },
    {
      "cell_type": "markdown",
      "metadata": {
        "id": "cJ14oyZExpqj"
      },
      "source": [
        "# 2. Exercise: training"
      ]
    },
    {
      "cell_type": "markdown",
      "source": [
        "Create and train a convolutional neural network with the following requirements:\n",
        "* apply early stopping with patience=5 and monitor the validation accuracy, don't forget to load back the best weights after early stopping\n",
        "* the number of trainable parameters is lower than 200.000\n",
        "* the validation accuracy must be higher than 72%\n",
        "\n",
        "Hints:\n",
        "* you can always inspect the number of trainable parameters per layer with model.summary()\n",
        "* usually the most trainable parameters are between the last convolutional layer and the next dense layer -- so you should have a reasonable output size at the last convolutional layer\n",
        "* regularization helps (e.g. DropOut and/or BatchNormalization)\n",
        "* use the right activation function at the output layer and the corresponding loss function\n",
        "* for the chosen activation functions, please use the appropriate initialization method\n",
        "* you can match the dimension of the last conv/pooling layer to the next dense layer with e.g. Flatten()\n",
        "* ADAM optimizer is a reasonable choice \n",
        "* don't forget to turn on GPU support in Colab, otherwise, it would be quite slow to train the networks\n",
        "\n"
      ],
      "metadata": {
        "id": "j1tGVPdD-pp3"
      }
    },
    {
      "cell_type": "code",
      "source": [
        "es = EarlyStopping(\n",
        "    monitor='val_accuracy',\n",
        "    min_delta=0,\n",
        "    patience=5,\n",
        "    verbose=0,\n",
        "    mode='auto',\n",
        "    baseline=None,\n",
        "    restore_best_weights=True,\n",
        "    start_from_epoch=0\n",
        ")\n"
      ],
      "metadata": {
        "id": "5dBQxJHIHrbd"
      },
      "execution_count": null,
      "outputs": []
    },
    {
      "cell_type": "code",
      "source": [
        "# model definition\n",
        "\n",
        "collection_of_layers = [\n",
        "    \n",
        "    ( Convolution2D(kernel_size=5, filters=32, padding=\"same\", kernel_initializer=\"he_normal\", activation=\"relu\", input_shape=[32, 32, 3] )), \n",
        "    ( MaxPool2D() ),\n",
        "    (BatchNormalization()),\n",
        "    ( Dropout(0.1) ),\n",
        "\n",
        "    ( Convolution2D(kernel_size=5, filters=64, padding=\"same\",  kernel_initializer=\"he_normal\", activation=\"relu\") ),\n",
        "    ( Convolution2D(kernel_size=3, filters=64, padding=\"same\", activation=\"relu\") ),\n",
        "    ( MaxPool2D() ), \n",
        "    (BatchNormalization()),\n",
        "    (Dropout(0.2)),\n",
        "\n",
        "    ( Convolution2D(kernel_size=5, filters=32, padding=\"same\",  kernel_initializer=\"he_normal\", activation=\"relu\", input_shape=[32, 32, 3] )), \n",
        "    ( MaxPool2D() ), \n",
        "    ( Flatten() ), \n",
        "    (Dropout(0.3)),\n",
        "    (BatchNormalization()),\n",
        "    (Dense(10, activation='sigmoid')),\n",
        "\n",
        "    ]\n",
        "\n",
        "model = Sequential(collection_of_layers)\n",
        "\n",
        "model.compile(loss='categorical_crossentropy', optimizer='adam', metrics=['accuracy'])"
      ],
      "metadata": {
        "id": "PuxHOqLt-3Nd"
      },
      "execution_count": null,
      "outputs": []
    },
    {
      "cell_type": "code",
      "source": [
        "model.summary()"
      ],
      "metadata": {
        "id": "5eomQw8uE9Ix",
        "colab": {
          "base_uri": "https://localhost:8080/"
        },
        "outputId": "427b94ae-feb5-4eef-c613-11e306b1dfc6"
      },
      "execution_count": null,
      "outputs": [
        {
          "output_type": "stream",
          "name": "stdout",
          "text": [
            "Model: \"sequential\"\n",
            "_________________________________________________________________\n",
            " Layer (type)                Output Shape              Param #   \n",
            "=================================================================\n",
            " conv2d (Conv2D)             (None, 32, 32, 32)        2432      \n",
            "                                                                 \n",
            " max_pooling2d (MaxPooling2D  (None, 16, 16, 32)       0         \n",
            " )                                                               \n",
            "                                                                 \n",
            " batch_normalization (BatchN  (None, 16, 16, 32)       128       \n",
            " ormalization)                                                   \n",
            "                                                                 \n",
            " dropout (Dropout)           (None, 16, 16, 32)        0         \n",
            "                                                                 \n",
            " conv2d_1 (Conv2D)           (None, 16, 16, 64)        51264     \n",
            "                                                                 \n",
            " conv2d_2 (Conv2D)           (None, 16, 16, 64)        36928     \n",
            "                                                                 \n",
            " max_pooling2d_1 (MaxPooling  (None, 8, 8, 64)         0         \n",
            " 2D)                                                             \n",
            "                                                                 \n",
            " batch_normalization_1 (Batc  (None, 8, 8, 64)         256       \n",
            " hNormalization)                                                 \n",
            "                                                                 \n",
            " dropout_1 (Dropout)         (None, 8, 8, 64)          0         \n",
            "                                                                 \n",
            " conv2d_3 (Conv2D)           (None, 8, 8, 32)          51232     \n",
            "                                                                 \n",
            " max_pooling2d_2 (MaxPooling  (None, 4, 4, 32)         0         \n",
            " 2D)                                                             \n",
            "                                                                 \n",
            " flatten (Flatten)           (None, 512)               0         \n",
            "                                                                 \n",
            " dropout_2 (Dropout)         (None, 512)               0         \n",
            "                                                                 \n",
            " batch_normalization_2 (Batc  (None, 512)              2048      \n",
            " hNormalization)                                                 \n",
            "                                                                 \n",
            " dense (Dense)               (None, 10)                5130      \n",
            "                                                                 \n",
            "=================================================================\n",
            "Total params: 149,418\n",
            "Trainable params: 148,202\n",
            "Non-trainable params: 1,216\n",
            "_________________________________________________________________\n"
          ]
        }
      ]
    },
    {
      "cell_type": "markdown",
      "source": [
        "Please, check the number of trainable paramers:"
      ],
      "metadata": {
        "id": "8tIbIIeTEI41"
      }
    },
    {
      "cell_type": "code",
      "source": [
        "print(\"#trainable parameters:\",model.count_params())"
      ],
      "metadata": {
        "id": "xdBAG7EJETlX",
        "colab": {
          "base_uri": "https://localhost:8080/"
        },
        "outputId": "74ddae3a-0bf4-438e-989b-0e6f7cd003bf"
      },
      "execution_count": null,
      "outputs": [
        {
          "output_type": "stream",
          "name": "stdout",
          "text": [
            "#trainable parameters: 149418\n"
          ]
        }
      ]
    },
    {
      "cell_type": "code",
      "source": [
        "# training\n",
        "network_history = model.fit(X_train, Y_train, validation_data=(X_valid,Y_valid),\n",
        "                            batch_size=128,                             \n",
        "                            epochs=40, \n",
        "                            verbose=1)"
      ],
      "metadata": {
        "id": "u8tFNCNVHyt9",
        "colab": {
          "base_uri": "https://localhost:8080/"
        },
        "outputId": "c18c3a4b-87f9-4789-b141-f6d0f4b1341a"
      },
      "execution_count": null,
      "outputs": [
        {
          "output_type": "stream",
          "name": "stdout",
          "text": [
            "Epoch 1/40\n",
            "313/313 [==============================] - 15s 17ms/step - loss: 1.6139 - accuracy: 0.4349 - val_loss: 1.2005 - val_accuracy: 0.5628\n",
            "Epoch 2/40\n",
            "313/313 [==============================] - 4s 14ms/step - loss: 1.1725 - accuracy: 0.5836 - val_loss: 1.0110 - val_accuracy: 0.6427\n",
            "Epoch 3/40\n",
            "313/313 [==============================] - 5s 15ms/step - loss: 1.0038 - accuracy: 0.6431 - val_loss: 0.8850 - val_accuracy: 0.6873\n",
            "Epoch 4/40\n",
            "313/313 [==============================] - 4s 13ms/step - loss: 0.9073 - accuracy: 0.6792 - val_loss: 0.8927 - val_accuracy: 0.6913\n",
            "Epoch 5/40\n",
            "313/313 [==============================] - 4s 14ms/step - loss: 0.8374 - accuracy: 0.7051 - val_loss: 0.7834 - val_accuracy: 0.7284\n",
            "Epoch 6/40\n",
            "313/313 [==============================] - 5s 15ms/step - loss: 0.7814 - accuracy: 0.7246 - val_loss: 0.8016 - val_accuracy: 0.7202\n",
            "Epoch 7/40\n",
            "313/313 [==============================] - 4s 14ms/step - loss: 0.7356 - accuracy: 0.7412 - val_loss: 0.7319 - val_accuracy: 0.7467\n",
            "Epoch 8/40\n",
            "313/313 [==============================] - 5s 15ms/step - loss: 0.6970 - accuracy: 0.7555 - val_loss: 0.7688 - val_accuracy: 0.7351\n",
            "Epoch 9/40\n",
            "313/313 [==============================] - 5s 14ms/step - loss: 0.6629 - accuracy: 0.7673 - val_loss: 0.6961 - val_accuracy: 0.7546\n",
            "Epoch 10/40\n",
            "313/313 [==============================] - 4s 14ms/step - loss: 0.6367 - accuracy: 0.7761 - val_loss: 0.6749 - val_accuracy: 0.7679\n",
            "Epoch 11/40\n",
            "313/313 [==============================] - 5s 15ms/step - loss: 0.6145 - accuracy: 0.7840 - val_loss: 0.7188 - val_accuracy: 0.7556\n",
            "Epoch 12/40\n",
            "313/313 [==============================] - 4s 14ms/step - loss: 0.5809 - accuracy: 0.7960 - val_loss: 0.6635 - val_accuracy: 0.7679\n",
            "Epoch 13/40\n",
            "313/313 [==============================] - 4s 13ms/step - loss: 0.5688 - accuracy: 0.7998 - val_loss: 0.6496 - val_accuracy: 0.7738\n",
            "Epoch 14/40\n",
            "313/313 [==============================] - 4s 14ms/step - loss: 0.5515 - accuracy: 0.8067 - val_loss: 0.6723 - val_accuracy: 0.7686\n",
            "Epoch 15/40\n",
            "313/313 [==============================] - 4s 14ms/step - loss: 0.5319 - accuracy: 0.8102 - val_loss: 0.6904 - val_accuracy: 0.7653\n",
            "Epoch 16/40\n",
            "313/313 [==============================] - 4s 14ms/step - loss: 0.5191 - accuracy: 0.8174 - val_loss: 0.6481 - val_accuracy: 0.7779\n",
            "Epoch 17/40\n",
            "313/313 [==============================] - 5s 17ms/step - loss: 0.5063 - accuracy: 0.8199 - val_loss: 0.6431 - val_accuracy: 0.7823\n",
            "Epoch 18/40\n",
            "313/313 [==============================] - 4s 13ms/step - loss: 0.4829 - accuracy: 0.8299 - val_loss: 0.6194 - val_accuracy: 0.7949\n",
            "Epoch 19/40\n",
            "313/313 [==============================] - 5s 14ms/step - loss: 0.4714 - accuracy: 0.8312 - val_loss: 0.6437 - val_accuracy: 0.7822\n",
            "Epoch 20/40\n",
            "313/313 [==============================] - 5s 15ms/step - loss: 0.4635 - accuracy: 0.8349 - val_loss: 0.6470 - val_accuracy: 0.7820\n",
            "Epoch 21/40\n",
            "313/313 [==============================] - 4s 14ms/step - loss: 0.4571 - accuracy: 0.8390 - val_loss: 0.6167 - val_accuracy: 0.7909\n",
            "Epoch 22/40\n",
            "313/313 [==============================] - 5s 15ms/step - loss: 0.4360 - accuracy: 0.8440 - val_loss: 0.6468 - val_accuracy: 0.7857\n",
            "Epoch 23/40\n",
            "313/313 [==============================] - 4s 14ms/step - loss: 0.4312 - accuracy: 0.8471 - val_loss: 0.6592 - val_accuracy: 0.7868\n",
            "Epoch 24/40\n",
            "313/313 [==============================] - 4s 13ms/step - loss: 0.4204 - accuracy: 0.8505 - val_loss: 0.6406 - val_accuracy: 0.7890\n",
            "Epoch 25/40\n",
            "313/313 [==============================] - 4s 14ms/step - loss: 0.4095 - accuracy: 0.8544 - val_loss: 0.6683 - val_accuracy: 0.7810\n",
            "Epoch 26/40\n",
            "313/313 [==============================] - 4s 13ms/step - loss: 0.4064 - accuracy: 0.8544 - val_loss: 0.6311 - val_accuracy: 0.7901\n",
            "Epoch 27/40\n",
            "313/313 [==============================] - 4s 13ms/step - loss: 0.3978 - accuracy: 0.8578 - val_loss: 0.6234 - val_accuracy: 0.7919\n",
            "Epoch 28/40\n",
            "313/313 [==============================] - 5s 15ms/step - loss: 0.3874 - accuracy: 0.8605 - val_loss: 0.6516 - val_accuracy: 0.7902\n",
            "Epoch 29/40\n",
            "313/313 [==============================] - 4s 14ms/step - loss: 0.3833 - accuracy: 0.8628 - val_loss: 0.6346 - val_accuracy: 0.7941\n",
            "Epoch 30/40\n",
            "313/313 [==============================] - 4s 13ms/step - loss: 0.3709 - accuracy: 0.8683 - val_loss: 0.6342 - val_accuracy: 0.7972\n",
            "Epoch 31/40\n",
            "313/313 [==============================] - 5s 15ms/step - loss: 0.3632 - accuracy: 0.8700 - val_loss: 0.6465 - val_accuracy: 0.7962\n",
            "Epoch 32/40\n",
            "313/313 [==============================] - 4s 13ms/step - loss: 0.3604 - accuracy: 0.8726 - val_loss: 0.6536 - val_accuracy: 0.7917\n",
            "Epoch 33/40\n",
            "313/313 [==============================] - 4s 13ms/step - loss: 0.3543 - accuracy: 0.8748 - val_loss: 0.6095 - val_accuracy: 0.7973\n",
            "Epoch 34/40\n",
            "313/313 [==============================] - 4s 14ms/step - loss: 0.3538 - accuracy: 0.8735 - val_loss: 0.6222 - val_accuracy: 0.8045\n",
            "Epoch 35/40\n",
            "313/313 [==============================] - 4s 13ms/step - loss: 0.3478 - accuracy: 0.8759 - val_loss: 0.6411 - val_accuracy: 0.7924\n",
            "Epoch 36/40\n",
            "313/313 [==============================] - 4s 14ms/step - loss: 0.3347 - accuracy: 0.8788 - val_loss: 0.6217 - val_accuracy: 0.7967\n",
            "Epoch 37/40\n",
            "313/313 [==============================] - 5s 15ms/step - loss: 0.3322 - accuracy: 0.8816 - val_loss: 0.6130 - val_accuracy: 0.7975\n",
            "Epoch 38/40\n",
            "313/313 [==============================] - 4s 14ms/step - loss: 0.3308 - accuracy: 0.8813 - val_loss: 0.6261 - val_accuracy: 0.7990\n",
            "Epoch 39/40\n",
            "313/313 [==============================] - 5s 15ms/step - loss: 0.3306 - accuracy: 0.8805 - val_loss: 0.6587 - val_accuracy: 0.7950\n",
            "Epoch 40/40\n",
            "313/313 [==============================] - 4s 14ms/step - loss: 0.3207 - accuracy: 0.8856 - val_loss: 0.6322 - val_accuracy: 0.7936\n"
          ]
        }
      ]
    },
    {
      "cell_type": "markdown",
      "source": [
        "# 3. Exercise: evaluation on test data\n",
        "You will evaluate the classification of the test data using the common metrics and the confusion matrix in this section. \n",
        "\n",
        "\n",
        "As a first stes, let's run the predictions and convert the predicted softmax outputs to dense labels. The one-hot encoded labels are also converted back to dense labels, as they are required for the evaluation functions."
      ],
      "metadata": {
        "id": "2FtKp-a2-A9m"
      }
    },
    {
      "cell_type": "code",
      "source": [
        "probas = model.predict(X_test)\n",
        "preds  = np.argmax(probas,axis=1)\n",
        "Y_test_dense = np.argmax(Y_test, axis=1) # get the original dense labels of the test data"
      ],
      "metadata": {
        "id": "EcWAqwlDMq3y",
        "colab": {
          "base_uri": "https://localhost:8080/"
        },
        "outputId": "c83de501-58b3-4867-bad7-82daed019ac3"
      },
      "execution_count": null,
      "outputs": [
        {
          "output_type": "stream",
          "name": "stdout",
          "text": [
            "313/313 [==============================] - 1s 3ms/step\n"
          ]
        }
      ]
    },
    {
      "cell_type": "markdown",
      "source": [
        "## 3.1. Exercise: Metrics\n",
        "please review the common classification metrics (accuracy, precision, recall, F1) for the complete model (not per class). \n",
        "\n",
        "Hints:\n",
        "* use macro averaging\n",
        "* you have to import the right functions from [sklearn.metrics](https://scikit-learn.org/stable/modules/model_evaluation.html)\n"
      ],
      "metadata": {
        "id": "RWJ-PH_iMs9K"
      }
    },
    {
      "cell_type": "code",
      "source": [
        "from sklearn.metrics import precision_score, accuracy_score, f1_score, recall_score"
      ],
      "metadata": {
        "id": "5sKm5zHSMZ_x"
      },
      "execution_count": null,
      "outputs": []
    },
    {
      "cell_type": "code",
      "source": [
        "print(\"Accuracy:\", accuracy_score(Y_test_dense, preds))\n",
        "print(\"Precision:\", precision_score(Y_test_dense, preds, average='macro'))\n",
        "print(\"Recall:\", recall_score(Y_test_dense, preds, average='macro'))\n",
        "print(\"F1:\", f1_score(Y_test_dense, preds, average='macro'))"
      ],
      "metadata": {
        "id": "I3_9wgDREUna",
        "colab": {
          "base_uri": "https://localhost:8080/"
        },
        "outputId": "c1312dbe-2843-43c3-8483-9e25c5186f52"
      },
      "execution_count": null,
      "outputs": [
        {
          "output_type": "stream",
          "name": "stdout",
          "text": [
            "Accuracy: 0.7876\n",
            "Precision: 0.7972244954812572\n",
            "Recall: 0.7876000000000001\n",
            "F1: 0.7895218900932857\n"
          ]
        }
      ]
    },
    {
      "cell_type": "markdown",
      "source": [
        "\n",
        "## 3.2. Exercise: Confusion matrix\n",
        "Calculate the confusion matrix and display the results in a heatmap (with decimal values).\n",
        "\n",
        "Hints:\n",
        "* you have to do the imports this time too, e.g. from [sklearn.metrics](https://scikit-learn.org/stable/modules/model_evaluation.html) and the [heatmap function](https://seaborn.pydata.org/generated/seaborn.heatmap.html) of [seaborn](https://seaborn.pydata.org/)\n",
        "* for displaying the decimal values, you have to turn annot=True and define fmt='d' in the heatmap function of seaborn"
      ],
      "metadata": {
        "id": "ECHguBFtGL7f"
      }
    },
    {
      "cell_type": "code",
      "source": [
        "from sklearn.metrics import confusion_matrix\n",
        "import seaborn as sns"
      ],
      "metadata": {
        "id": "SIi2VzMBO3yD"
      },
      "execution_count": null,
      "outputs": []
    },
    {
      "cell_type": "code",
      "metadata": {
        "id": "cdqODx92Svw7",
        "colab": {
          "base_uri": "https://localhost:8080/",
          "height": 718
        },
        "outputId": "c434cd86-795b-419b-f2e1-d562edc4b074"
      },
      "source": [
        "conf = confusion_matrix(Y_test_dense, preds)\n",
        "plt.figure(figsize=(12,12))\n",
        "sns.heatmap(conf, annot= True, fmt='d')"
      ],
      "execution_count": null,
      "outputs": [
        {
          "output_type": "execute_result",
          "data": {
            "text/plain": [
              "<Axes: >"
            ]
          },
          "metadata": {},
          "execution_count": 18
        },
        {
          "output_type": "display_data",
          "data": {
            "text/plain": [
              "<Figure size 864x864 with 2 Axes>"
            ],
            "image/png": "[encoded data removed]"
          },
          "metadata": {
            "needs_background": "light"
          }
        }
      ]
    }
  ]
}